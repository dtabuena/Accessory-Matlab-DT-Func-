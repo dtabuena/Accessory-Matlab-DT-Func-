{
  "nbformat": 4,
  "nbformat_minor": 0,
  "metadata": {
    "colab": {
      "provenance": [],
      "authorship_tag": "ABX9TyNmzntnd7vGLWW/RXG2J0hV",
      "include_colab_link": true
    },
    "kernelspec": {
      "name": "python3",
      "display_name": "Python 3"
    },
    "language_info": {
      "name": "python"
    }
  },
  "cells": [
    {
      "cell_type": "markdown",
      "metadata": {
        "id": "view-in-github",
        "colab_type": "text"
      },
      "source": [
        "<a href=\"https://colab.research.google.com/github/dtabuena/Accessory-Matlab-DT-Func-/blob/master/Untitled65.ipynb\" target=\"_parent\"><img src=\"https://colab.research.google.com/assets/colab-badge.svg\" alt=\"Open In Colab\"/></a>"
      ]
    },
    {
      "cell_type": "code",
      "source": [
        "import numpy as np\n",
        "import skimage\n",
        "from skimage import filters\n",
        "from matplotlib import pyplot as plt\n",
        "import matplotlib\n",
        "import os\n",
        "!pip install tifffile\n",
        "import tifffile"
      ],
      "metadata": {
        "colab": {
          "base_uri": "https://localhost:8080/"
        },
        "id": "1Jw5etm8sw7K",
        "outputId": "7b3be096-fbd9-46aa-b82d-7a38a42c9790"
      },
      "execution_count": 1,
      "outputs": [
        {
          "output_type": "stream",
          "name": "stdout",
          "text": [
            "Requirement already satisfied: tifffile in c:\\users\\dennis.tabuena\\appdata\\local\\anaconda3\\envs\\notebook\\lib\\site-packages (2024.2.12)\n",
            "Requirement already satisfied: numpy in c:\\users\\dennis.tabuena\\appdata\\local\\anaconda3\\envs\\notebook\\lib\\site-packages (from tifffile) (1.26.4)\n"
          ]
        }
      ]
    },
    {
      "cell_type": "code",
      "source": [
        "image_dir = '\\\\\\\\hive.gladstone.internal\\\\Huang-Lab\\\\Lab Members\\\\Tabuena\\\\SLICK stain\\\\From Zoe\\\\To_analyze'\n",
        "\n",
        "image_list = list()\n",
        "for subdir, _, files in os.walk(image_dir):\n",
        "    for file in files:\n",
        "        if file.endswith('.oir'):\n",
        "            if 'Stitch_' in file:\n",
        "                print(file)\n",
        "                print(subdir.split('\\\\')[-1])\n",
        "                image_list.append(os.path.join(subdir, file))\n"
      ],
      "metadata": {
        "colab": {
          "base_uri": "https://localhost:8080/"
        },
        "id": "ELJkFxFrtHiC",
        "outputId": "df31d1d8-5d23-4c0b-fa5f-0cb63f7a36a4"
      },
      "execution_count": 9,
      "outputs": [
        {
          "output_type": "stream",
          "name": "stdout",
          "text": [
            "Stitch_A01_G001_0001.oir\n",
            "E3KI_1200_Slice1\n",
            "Stitch_A01_G001.oir\n",
            "E3KI_1200_Slice2_Cycle\n",
            "Stitch_A01_G001.oir\n",
            "E3KI_1200_Slice3_Cycle\n",
            "Stitch_A01_G001_0001.oir\n",
            "E3KI_1200_Slice3_Cycle\n",
            "Stitch_A01_G001.oir\n",
            "E3KI_1202_Slice1_Cycle_01\n",
            "Stitch_A01_G001_0001.oir\n",
            "E3KI_1202_Slice1_Cycle_01\n",
            "Stitch_A01_G001.oir\n",
            "E3KI_1202_Slice2_Cycle\n",
            "Stitch_A01_G001_0001.oir\n",
            "E3KI_1202_Slice2_Cycle\n",
            "Stitch_A01_G001.oir\n",
            "E3KI_1202_Slice3_Cycle_01\n",
            "Stitch_A01_G001.oir\n",
            "E3KI_1203_Slice1_Cycle\n",
            "Stitch_A01_G001.oir\n",
            "E3KI_1203_Slice3_Cycle\n",
            "Stitch_A01_G001_0001.oir\n",
            "E3KI_1203_Slice3_Cycle\n",
            "Stitch_A01_G001.oir\n",
            "E4KI_1204_Slice1_Cycle\n",
            "Stitch_A01_G001_0001.oir\n",
            "E4KI_1204_Slice1_Cycle\n",
            "Stitch_A01_G001.oir\n",
            "E4KI_1204_Slice2_Cycle\n",
            "Stitch_A01_G001_0001.oir\n",
            "E4KI_1204_Slice2_Cycle\n",
            "Stitch_A01_G001.oir\n",
            "E4KI_1204_Slice3_Cycle_01\n",
            "Stitch_A01_G001.oir\n",
            "E4KI_1205_Slice1_Cycle\n",
            "Stitch_A01_G001.oir\n",
            "E4KI_1205_Slice2_Cycle\n",
            "Stitch_A01_G001.oir\n",
            "E4KI_1205_Slice3_Cycle\n",
            "Stitch_A01_G001.oir\n",
            "E4KI_1206_Slice1_Cycle\n",
            "Stitch_A01_G001.oir\n",
            "E4KI_1206_Slice2_Cycle\n",
            "Stitch_A01_G001.oir\n",
            "E4KI_1206_Slice3_Cycle\n",
            "Stitch_A01_G001_0001.oir\n",
            "E4KI_1206_Slice3_Cycle\n",
            "Stitch_A01_G001.oir\n",
            "E4KI_1207_Slice1_Cycle\n",
            "Stitch_A01_G001.oir\n",
            "E4KI_1207_Slice2_Cycle\n",
            "Stitch_A01_G001.oir\n",
            "E4KI_1207_Slice3_Cycle\n",
            "Stitch_A01_G001.oir\n",
            "fE4DLX+_1217_Slice1_Cycle\n",
            "Stitch_A01_G001_0001.oir\n",
            "fE4DLX+_1217_Slice1_Cycle\n",
            "Stitch_A01_G001.oir\n",
            "fE4DLX+_1217_Slice2_Cycle\n",
            "Stitch_A01_G001.oir\n",
            "fE4DLX+_1218_Slice1_Cycle\n",
            "Stitch_A01_G001.oir\n",
            "fE4DLX+_1218_Slice3_Cycle\n",
            "Stitch_A01_G001.oir\n",
            "fE4DLX-_1215_Slice1_Cycle_02\n",
            "Stitch_A01_G001.oir\n",
            "fE4DLX-_1215_Slice2_Cycle\n",
            "Stitch_A01_G001.oir\n",
            "fE4DLX-_1215_Slice3_Cycle\n",
            "Stitch_A01_G001.oir\n",
            "fE4DLX-_1216_Slice1_Cycle\n",
            "Stitch_A01_G001.oir\n",
            "fE4DLX-_1216_Slice2_Cycle_01\n"
          ]
        }
      ]
    },
    {
      "cell_type": "code",
      "source": [
        "image_list"
      ],
      "metadata": {
        "colab": {
          "base_uri": "https://localhost:8080/"
        },
        "id": "raraVFRb1uOW",
        "outputId": "44378b3c-4a68-436f-f54d-72537f0b9f4b"
      },
      "execution_count": 10,
      "outputs": [
        {
          "output_type": "execute_result",
          "data": {
            "text/plain": [
              "['\\\\\\\\hive.gladstone.internal\\\\Huang-Lab\\\\Lab Members\\\\Tabuena\\\\SLICK stain\\\\From Zoe\\\\To_analyze\\\\E3KI_1200_Slice1\\\\Stitch_A01_G001_0001.oir',\n",
              " '\\\\\\\\hive.gladstone.internal\\\\Huang-Lab\\\\Lab Members\\\\Tabuena\\\\SLICK stain\\\\From Zoe\\\\To_analyze\\\\E3KI_1200_Slice2_Cycle\\\\Stitch_A01_G001.oir',\n",
              " '\\\\\\\\hive.gladstone.internal\\\\Huang-Lab\\\\Lab Members\\\\Tabuena\\\\SLICK stain\\\\From Zoe\\\\To_analyze\\\\E3KI_1200_Slice3_Cycle\\\\Stitch_A01_G001.oir',\n",
              " '\\\\\\\\hive.gladstone.internal\\\\Huang-Lab\\\\Lab Members\\\\Tabuena\\\\SLICK stain\\\\From Zoe\\\\To_analyze\\\\E3KI_1200_Slice3_Cycle\\\\Stitch_A01_G001_0001.oir',\n",
              " '\\\\\\\\hive.gladstone.internal\\\\Huang-Lab\\\\Lab Members\\\\Tabuena\\\\SLICK stain\\\\From Zoe\\\\To_analyze\\\\E3KI_1202_Slice1_Cycle_01\\\\Stitch_A01_G001.oir',\n",
              " '\\\\\\\\hive.gladstone.internal\\\\Huang-Lab\\\\Lab Members\\\\Tabuena\\\\SLICK stain\\\\From Zoe\\\\To_analyze\\\\E3KI_1202_Slice1_Cycle_01\\\\Stitch_A01_G001_0001.oir',\n",
              " '\\\\\\\\hive.gladstone.internal\\\\Huang-Lab\\\\Lab Members\\\\Tabuena\\\\SLICK stain\\\\From Zoe\\\\To_analyze\\\\E3KI_1202_Slice2_Cycle\\\\Stitch_A01_G001.oir',\n",
              " '\\\\\\\\hive.gladstone.internal\\\\Huang-Lab\\\\Lab Members\\\\Tabuena\\\\SLICK stain\\\\From Zoe\\\\To_analyze\\\\E3KI_1202_Slice2_Cycle\\\\Stitch_A01_G001_0001.oir',\n",
              " '\\\\\\\\hive.gladstone.internal\\\\Huang-Lab\\\\Lab Members\\\\Tabuena\\\\SLICK stain\\\\From Zoe\\\\To_analyze\\\\E3KI_1202_Slice3_Cycle_01\\\\Stitch_A01_G001.oir',\n",
              " '\\\\\\\\hive.gladstone.internal\\\\Huang-Lab\\\\Lab Members\\\\Tabuena\\\\SLICK stain\\\\From Zoe\\\\To_analyze\\\\E3KI_1203_Slice1_Cycle\\\\Stitch_A01_G001.oir',\n",
              " '\\\\\\\\hive.gladstone.internal\\\\Huang-Lab\\\\Lab Members\\\\Tabuena\\\\SLICK stain\\\\From Zoe\\\\To_analyze\\\\E3KI_1203_Slice3_Cycle\\\\Stitch_A01_G001.oir',\n",
              " '\\\\\\\\hive.gladstone.internal\\\\Huang-Lab\\\\Lab Members\\\\Tabuena\\\\SLICK stain\\\\From Zoe\\\\To_analyze\\\\E3KI_1203_Slice3_Cycle\\\\Stitch_A01_G001_0001.oir',\n",
              " '\\\\\\\\hive.gladstone.internal\\\\Huang-Lab\\\\Lab Members\\\\Tabuena\\\\SLICK stain\\\\From Zoe\\\\To_analyze\\\\E4KI_1204_Slice1_Cycle\\\\Stitch_A01_G001.oir',\n",
              " '\\\\\\\\hive.gladstone.internal\\\\Huang-Lab\\\\Lab Members\\\\Tabuena\\\\SLICK stain\\\\From Zoe\\\\To_analyze\\\\E4KI_1204_Slice1_Cycle\\\\Stitch_A01_G001_0001.oir',\n",
              " '\\\\\\\\hive.gladstone.internal\\\\Huang-Lab\\\\Lab Members\\\\Tabuena\\\\SLICK stain\\\\From Zoe\\\\To_analyze\\\\E4KI_1204_Slice2_Cycle\\\\Stitch_A01_G001.oir',\n",
              " '\\\\\\\\hive.gladstone.internal\\\\Huang-Lab\\\\Lab Members\\\\Tabuena\\\\SLICK stain\\\\From Zoe\\\\To_analyze\\\\E4KI_1204_Slice2_Cycle\\\\Stitch_A01_G001_0001.oir',\n",
              " '\\\\\\\\hive.gladstone.internal\\\\Huang-Lab\\\\Lab Members\\\\Tabuena\\\\SLICK stain\\\\From Zoe\\\\To_analyze\\\\E4KI_1204_Slice3_Cycle_01\\\\Stitch_A01_G001.oir',\n",
              " '\\\\\\\\hive.gladstone.internal\\\\Huang-Lab\\\\Lab Members\\\\Tabuena\\\\SLICK stain\\\\From Zoe\\\\To_analyze\\\\E4KI_1205_Slice1_Cycle\\\\Stitch_A01_G001.oir',\n",
              " '\\\\\\\\hive.gladstone.internal\\\\Huang-Lab\\\\Lab Members\\\\Tabuena\\\\SLICK stain\\\\From Zoe\\\\To_analyze\\\\E4KI_1205_Slice2_Cycle\\\\Stitch_A01_G001.oir',\n",
              " '\\\\\\\\hive.gladstone.internal\\\\Huang-Lab\\\\Lab Members\\\\Tabuena\\\\SLICK stain\\\\From Zoe\\\\To_analyze\\\\E4KI_1205_Slice3_Cycle\\\\Stitch_A01_G001.oir',\n",
              " '\\\\\\\\hive.gladstone.internal\\\\Huang-Lab\\\\Lab Members\\\\Tabuena\\\\SLICK stain\\\\From Zoe\\\\To_analyze\\\\E4KI_1206_Slice1_Cycle\\\\Stitch_A01_G001.oir',\n",
              " '\\\\\\\\hive.gladstone.internal\\\\Huang-Lab\\\\Lab Members\\\\Tabuena\\\\SLICK stain\\\\From Zoe\\\\To_analyze\\\\E4KI_1206_Slice2_Cycle\\\\Stitch_A01_G001.oir',\n",
              " '\\\\\\\\hive.gladstone.internal\\\\Huang-Lab\\\\Lab Members\\\\Tabuena\\\\SLICK stain\\\\From Zoe\\\\To_analyze\\\\E4KI_1206_Slice3_Cycle\\\\Stitch_A01_G001.oir',\n",
              " '\\\\\\\\hive.gladstone.internal\\\\Huang-Lab\\\\Lab Members\\\\Tabuena\\\\SLICK stain\\\\From Zoe\\\\To_analyze\\\\E4KI_1206_Slice3_Cycle\\\\Stitch_A01_G001_0001.oir',\n",
              " '\\\\\\\\hive.gladstone.internal\\\\Huang-Lab\\\\Lab Members\\\\Tabuena\\\\SLICK stain\\\\From Zoe\\\\To_analyze\\\\E4KI_1207_Slice1_Cycle\\\\Stitch_A01_G001.oir',\n",
              " '\\\\\\\\hive.gladstone.internal\\\\Huang-Lab\\\\Lab Members\\\\Tabuena\\\\SLICK stain\\\\From Zoe\\\\To_analyze\\\\E4KI_1207_Slice2_Cycle\\\\Stitch_A01_G001.oir',\n",
              " '\\\\\\\\hive.gladstone.internal\\\\Huang-Lab\\\\Lab Members\\\\Tabuena\\\\SLICK stain\\\\From Zoe\\\\To_analyze\\\\E4KI_1207_Slice3_Cycle\\\\Stitch_A01_G001.oir',\n",
              " '\\\\\\\\hive.gladstone.internal\\\\Huang-Lab\\\\Lab Members\\\\Tabuena\\\\SLICK stain\\\\From Zoe\\\\To_analyze\\\\fE4DLX+_1217_Slice1_Cycle\\\\Stitch_A01_G001.oir',\n",
              " '\\\\\\\\hive.gladstone.internal\\\\Huang-Lab\\\\Lab Members\\\\Tabuena\\\\SLICK stain\\\\From Zoe\\\\To_analyze\\\\fE4DLX+_1217_Slice1_Cycle\\\\Stitch_A01_G001_0001.oir',\n",
              " '\\\\\\\\hive.gladstone.internal\\\\Huang-Lab\\\\Lab Members\\\\Tabuena\\\\SLICK stain\\\\From Zoe\\\\To_analyze\\\\fE4DLX+_1217_Slice2_Cycle\\\\Stitch_A01_G001.oir',\n",
              " '\\\\\\\\hive.gladstone.internal\\\\Huang-Lab\\\\Lab Members\\\\Tabuena\\\\SLICK stain\\\\From Zoe\\\\To_analyze\\\\fE4DLX+_1218_Slice1_Cycle\\\\Stitch_A01_G001.oir',\n",
              " '\\\\\\\\hive.gladstone.internal\\\\Huang-Lab\\\\Lab Members\\\\Tabuena\\\\SLICK stain\\\\From Zoe\\\\To_analyze\\\\fE4DLX+_1218_Slice3_Cycle\\\\Stitch_A01_G001.oir',\n",
              " '\\\\\\\\hive.gladstone.internal\\\\Huang-Lab\\\\Lab Members\\\\Tabuena\\\\SLICK stain\\\\From Zoe\\\\To_analyze\\\\fE4DLX-_1215_Slice1_Cycle_02\\\\Stitch_A01_G001.oir',\n",
              " '\\\\\\\\hive.gladstone.internal\\\\Huang-Lab\\\\Lab Members\\\\Tabuena\\\\SLICK stain\\\\From Zoe\\\\To_analyze\\\\fE4DLX-_1215_Slice2_Cycle\\\\Stitch_A01_G001.oir',\n",
              " '\\\\\\\\hive.gladstone.internal\\\\Huang-Lab\\\\Lab Members\\\\Tabuena\\\\SLICK stain\\\\From Zoe\\\\To_analyze\\\\fE4DLX-_1215_Slice3_Cycle\\\\Stitch_A01_G001.oir',\n",
              " '\\\\\\\\hive.gladstone.internal\\\\Huang-Lab\\\\Lab Members\\\\Tabuena\\\\SLICK stain\\\\From Zoe\\\\To_analyze\\\\fE4DLX-_1216_Slice1_Cycle\\\\Stitch_A01_G001.oir',\n",
              " '\\\\\\\\hive.gladstone.internal\\\\Huang-Lab\\\\Lab Members\\\\Tabuena\\\\SLICK stain\\\\From Zoe\\\\To_analyze\\\\fE4DLX-_1216_Slice2_Cycle_01\\\\Stitch_A01_G001.oir']"
            ]
          },
          "metadata": {},
          "execution_count": 10
        }
      ]
    },
    {
      "cell_type": "code",
      "source": [
        "os.chdir(image_dir)\n",
        "files = os.listdir()\n",
        "tiffs = [f for f in files if '.tif' in f]\n",
        "\n",
        "\n",
        "\n",
        "# for tiff_file in tiffs:\n",
        "#     tiff_image = tifffile.imread(tiff_file)\n",
        "\n",
        "\n",
        "\n"
      ],
      "metadata": {
        "colab": {
          "base_uri": "https://localhost:8080/",
          "height": 34
        },
        "id": "yQWq1H__taob",
        "outputId": "3a5b2bd2-45fc-4965-9e7f-d942f2270da8"
      },
      "execution_count": 13,
      "outputs": [
        {
          "output_type": "display_data",
          "data": {
            "text/plain": [
              "(1561, 803)"
            ]
          },
          "metadata": {}
        }
      ]
    }
  ]
}