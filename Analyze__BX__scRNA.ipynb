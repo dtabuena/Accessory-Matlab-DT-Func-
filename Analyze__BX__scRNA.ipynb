{
  "nbformat": 4,
  "nbformat_minor": 0,
  "metadata": {
    "colab": {
      "provenance": [],
      "authorship_tag": "ABX9TyPaMJmRNNlJ1Tfr3rExgWTQ",
      "include_colab_link": true
    },
    "kernelspec": {
      "name": "python3",
      "display_name": "Python 3"
    },
    "language_info": {
      "name": "python"
    }
  },
  "cells": [
    {
      "cell_type": "markdown",
      "metadata": {
        "id": "view-in-github",
        "colab_type": "text"
      },
      "source": [
        "<a href=\"https://colab.research.google.com/github/dtabuena/Accessory-Matlab-DT-Func-/blob/master/Analyze__BX__scRNA.ipynb\" target=\"_parent\"><img src=\"https://colab.research.google.com/assets/colab-badge.svg\" alt=\"Open In Colab\"/></a>"
      ]
    },
    {
      "cell_type": "code",
      "execution_count": 91,
      "metadata": {
        "id": "e-U1uRiBKykm"
      },
      "outputs": [],
      "source": [
        "import os\n",
        "import shutil\n",
        "!pip install scanpy\n",
        "import scanpy as sc\n",
        "import anndata as ad\n",
        "from tqdm import tqdm"
      ]
    },
    {
      "cell_type": "code",
      "source": [
        "\n",
        "subfolder='/outs/raw_gene_bc_matrices/mm10-1.2.0_premrna/'\n",
        "parent_folder='//hive.gladstone.internal/Huang-Lab/kzalocus/bumex_snSeq/'\n",
        "needed_files = ['/barcodes.tsv', '/genes.tsv', '/matrix.mtx']\n",
        "os.chdir(parent_folder)\n",
        "\n",
        "\n",
        "folder_list = [f.name for f in os.scandir(parent_folder) if f.is_dir()]\n",
        "folder_list = [f for f in folder_list if \"_\" in f]\n",
        "_=[print(f) for f in folder_list if \"_\" in f]\n",
        "\n"
      ],
      "metadata": {
        "colab": {
          "base_uri": "https://localhost:8080/"
        },
        "id": "m-Yl7H-zK_0a",
        "outputId": "4f2bac4e-668e-464c-e18a-7f49c8684b94"
      },
      "execution_count": 96,
      "outputs": [
        {
          "output_type": "stream",
          "name": "stdout",
          "text": [
            "01_E3Ki3611\n",
            "02_E3Ki3607\n",
            "03_E3Ki3608\n",
            "04_E3Ki3612\n",
            "05_E3Ki3613\n",
            "06_E3Ki3614\n",
            "07_E4Ki2737\n",
            "08_E4Ki2738\n",
            "09_E4Ki2739\n",
            "10_E4Ki2710\n",
            "11_E4Ki2711\n",
            "12_E4Ki2712\n"
          ]
        }
      ]
    },
    {
      "cell_type": "code",
      "source": [
        "f = folder_list[0]\n",
        "print(f)\n",
        "f_list = [''.join([parent_folder,f,subfolder,n]) for n in needed_files] #\n",
        "print(f_list)\n"
      ],
      "metadata": {
        "colab": {
          "base_uri": "https://localhost:8080/"
        },
        "id": "oLEfucd8i_he",
        "outputId": "b321bd40-0bc2-4edd-9f2a-a2f49f26a1d2"
      },
      "execution_count": 97,
      "outputs": [
        {
          "output_type": "stream",
          "name": "stdout",
          "text": [
            "01_E3Ki3611\n",
            "['//hive.gladstone.internal/Huang-Lab/kzalocus/bumex_snSeq/01_E3Ki3611/outs/raw_gene_bc_matrices/mm10-1.2.0_premrna//barcodes.tsv', '//hive.gladstone.internal/Huang-Lab/kzalocus/bumex_snSeq/01_E3Ki3611/outs/raw_gene_bc_matrices/mm10-1.2.0_premrna//genes.tsv', '//hive.gladstone.internal/Huang-Lab/kzalocus/bumex_snSeq/01_E3Ki3611/outs/raw_gene_bc_matrices/mm10-1.2.0_premrna//matrix.mtx']\n"
          ]
        }
      ]
    },
    {
      "cell_type": "code",
      "source": [
        "dest_folder = 'C:/Users/dennis.tabuena/Dropbox (Gladstone)/0_Projects/_ReAnalyze_Zalocusky_2021/snBMX/'\n",
        "\n",
        "for f in folder_list:\n",
        "    for n in needed_files:\n",
        "        src = ''.join([parent_folder,f,subfolder,n])\n",
        "        try:\n",
        "            print(''.join([dest_folder,f,'/']))\n",
        "            os.makedirs(''.join([dest_folder,f,'/']))\n",
        "        except: None\n",
        "        dst = ''.join([dest_folder,f,n])\n",
        "\n",
        "        print(src)\n",
        "        print(dst)\n",
        "\n",
        "\n",
        "\n",
        "        shutil.copyfile(src, dst)"
      ],
      "metadata": {
        "colab": {
          "base_uri": "https://localhost:8080/"
        },
        "id": "GNwlXrMOiMzR",
        "outputId": "754e8c9d-1a77-437a-ae26-e30703c73306"
      },
      "execution_count": 98,
      "outputs": [
        {
          "output_type": "stream",
          "name": "stdout",
          "text": [
            "C:/Users/dennis.tabuena/Dropbox (Gladstone)/0_Projects/_ReAnalyze_Zalocusky_2021/snBMX/01_E3Ki3611/\n",
            "//hive.gladstone.internal/Huang-Lab/kzalocus/bumex_snSeq/01_E3Ki3611/outs/raw_gene_bc_matrices/mm10-1.2.0_premrna//barcodes.tsv\n",
            "C:/Users/dennis.tabuena/Dropbox (Gladstone)/0_Projects/_ReAnalyze_Zalocusky_2021/snBMX/01_E3Ki3611/barcodes.tsv\n",
            "C:/Users/dennis.tabuena/Dropbox (Gladstone)/0_Projects/_ReAnalyze_Zalocusky_2021/snBMX/01_E3Ki3611/\n",
            "//hive.gladstone.internal/Huang-Lab/kzalocus/bumex_snSeq/01_E3Ki3611/outs/raw_gene_bc_matrices/mm10-1.2.0_premrna//genes.tsv\n",
            "C:/Users/dennis.tabuena/Dropbox (Gladstone)/0_Projects/_ReAnalyze_Zalocusky_2021/snBMX/01_E3Ki3611/genes.tsv\n",
            "C:/Users/dennis.tabuena/Dropbox (Gladstone)/0_Projects/_ReAnalyze_Zalocusky_2021/snBMX/01_E3Ki3611/\n",
            "//hive.gladstone.internal/Huang-Lab/kzalocus/bumex_snSeq/01_E3Ki3611/outs/raw_gene_bc_matrices/mm10-1.2.0_premrna//matrix.mtx\n",
            "C:/Users/dennis.tabuena/Dropbox (Gladstone)/0_Projects/_ReAnalyze_Zalocusky_2021/snBMX/01_E3Ki3611/matrix.mtx\n",
            "C:/Users/dennis.tabuena/Dropbox (Gladstone)/0_Projects/_ReAnalyze_Zalocusky_2021/snBMX/02_E3Ki3607/\n",
            "//hive.gladstone.internal/Huang-Lab/kzalocus/bumex_snSeq/02_E3Ki3607/outs/raw_gene_bc_matrices/mm10-1.2.0_premrna//barcodes.tsv\n",
            "C:/Users/dennis.tabuena/Dropbox (Gladstone)/0_Projects/_ReAnalyze_Zalocusky_2021/snBMX/02_E3Ki3607/barcodes.tsv\n",
            "C:/Users/dennis.tabuena/Dropbox (Gladstone)/0_Projects/_ReAnalyze_Zalocusky_2021/snBMX/02_E3Ki3607/\n",
            "//hive.gladstone.internal/Huang-Lab/kzalocus/bumex_snSeq/02_E3Ki3607/outs/raw_gene_bc_matrices/mm10-1.2.0_premrna//genes.tsv\n",
            "C:/Users/dennis.tabuena/Dropbox (Gladstone)/0_Projects/_ReAnalyze_Zalocusky_2021/snBMX/02_E3Ki3607/genes.tsv\n",
            "C:/Users/dennis.tabuena/Dropbox (Gladstone)/0_Projects/_ReAnalyze_Zalocusky_2021/snBMX/02_E3Ki3607/\n",
            "//hive.gladstone.internal/Huang-Lab/kzalocus/bumex_snSeq/02_E3Ki3607/outs/raw_gene_bc_matrices/mm10-1.2.0_premrna//matrix.mtx\n",
            "C:/Users/dennis.tabuena/Dropbox (Gladstone)/0_Projects/_ReAnalyze_Zalocusky_2021/snBMX/02_E3Ki3607/matrix.mtx\n",
            "C:/Users/dennis.tabuena/Dropbox (Gladstone)/0_Projects/_ReAnalyze_Zalocusky_2021/snBMX/03_E3Ki3608/\n",
            "//hive.gladstone.internal/Huang-Lab/kzalocus/bumex_snSeq/03_E3Ki3608/outs/raw_gene_bc_matrices/mm10-1.2.0_premrna//barcodes.tsv\n",
            "C:/Users/dennis.tabuena/Dropbox (Gladstone)/0_Projects/_ReAnalyze_Zalocusky_2021/snBMX/03_E3Ki3608/barcodes.tsv\n",
            "C:/Users/dennis.tabuena/Dropbox (Gladstone)/0_Projects/_ReAnalyze_Zalocusky_2021/snBMX/03_E3Ki3608/\n",
            "//hive.gladstone.internal/Huang-Lab/kzalocus/bumex_snSeq/03_E3Ki3608/outs/raw_gene_bc_matrices/mm10-1.2.0_premrna//genes.tsv\n",
            "C:/Users/dennis.tabuena/Dropbox (Gladstone)/0_Projects/_ReAnalyze_Zalocusky_2021/snBMX/03_E3Ki3608/genes.tsv\n",
            "C:/Users/dennis.tabuena/Dropbox (Gladstone)/0_Projects/_ReAnalyze_Zalocusky_2021/snBMX/03_E3Ki3608/\n",
            "//hive.gladstone.internal/Huang-Lab/kzalocus/bumex_snSeq/03_E3Ki3608/outs/raw_gene_bc_matrices/mm10-1.2.0_premrna//matrix.mtx\n",
            "C:/Users/dennis.tabuena/Dropbox (Gladstone)/0_Projects/_ReAnalyze_Zalocusky_2021/snBMX/03_E3Ki3608/matrix.mtx\n",
            "C:/Users/dennis.tabuena/Dropbox (Gladstone)/0_Projects/_ReAnalyze_Zalocusky_2021/snBMX/04_E3Ki3612/\n",
            "//hive.gladstone.internal/Huang-Lab/kzalocus/bumex_snSeq/04_E3Ki3612/outs/raw_gene_bc_matrices/mm10-1.2.0_premrna//barcodes.tsv\n",
            "C:/Users/dennis.tabuena/Dropbox (Gladstone)/0_Projects/_ReAnalyze_Zalocusky_2021/snBMX/04_E3Ki3612/barcodes.tsv\n",
            "C:/Users/dennis.tabuena/Dropbox (Gladstone)/0_Projects/_ReAnalyze_Zalocusky_2021/snBMX/04_E3Ki3612/\n",
            "//hive.gladstone.internal/Huang-Lab/kzalocus/bumex_snSeq/04_E3Ki3612/outs/raw_gene_bc_matrices/mm10-1.2.0_premrna//genes.tsv\n",
            "C:/Users/dennis.tabuena/Dropbox (Gladstone)/0_Projects/_ReAnalyze_Zalocusky_2021/snBMX/04_E3Ki3612/genes.tsv\n",
            "C:/Users/dennis.tabuena/Dropbox (Gladstone)/0_Projects/_ReAnalyze_Zalocusky_2021/snBMX/04_E3Ki3612/\n",
            "//hive.gladstone.internal/Huang-Lab/kzalocus/bumex_snSeq/04_E3Ki3612/outs/raw_gene_bc_matrices/mm10-1.2.0_premrna//matrix.mtx\n",
            "C:/Users/dennis.tabuena/Dropbox (Gladstone)/0_Projects/_ReAnalyze_Zalocusky_2021/snBMX/04_E3Ki3612/matrix.mtx\n",
            "C:/Users/dennis.tabuena/Dropbox (Gladstone)/0_Projects/_ReAnalyze_Zalocusky_2021/snBMX/05_E3Ki3613/\n",
            "//hive.gladstone.internal/Huang-Lab/kzalocus/bumex_snSeq/05_E3Ki3613/outs/raw_gene_bc_matrices/mm10-1.2.0_premrna//barcodes.tsv\n",
            "C:/Users/dennis.tabuena/Dropbox (Gladstone)/0_Projects/_ReAnalyze_Zalocusky_2021/snBMX/05_E3Ki3613/barcodes.tsv\n",
            "C:/Users/dennis.tabuena/Dropbox (Gladstone)/0_Projects/_ReAnalyze_Zalocusky_2021/snBMX/05_E3Ki3613/\n",
            "//hive.gladstone.internal/Huang-Lab/kzalocus/bumex_snSeq/05_E3Ki3613/outs/raw_gene_bc_matrices/mm10-1.2.0_premrna//genes.tsv\n",
            "C:/Users/dennis.tabuena/Dropbox (Gladstone)/0_Projects/_ReAnalyze_Zalocusky_2021/snBMX/05_E3Ki3613/genes.tsv\n",
            "C:/Users/dennis.tabuena/Dropbox (Gladstone)/0_Projects/_ReAnalyze_Zalocusky_2021/snBMX/05_E3Ki3613/\n",
            "//hive.gladstone.internal/Huang-Lab/kzalocus/bumex_snSeq/05_E3Ki3613/outs/raw_gene_bc_matrices/mm10-1.2.0_premrna//matrix.mtx\n",
            "C:/Users/dennis.tabuena/Dropbox (Gladstone)/0_Projects/_ReAnalyze_Zalocusky_2021/snBMX/05_E3Ki3613/matrix.mtx\n",
            "C:/Users/dennis.tabuena/Dropbox (Gladstone)/0_Projects/_ReAnalyze_Zalocusky_2021/snBMX/06_E3Ki3614/\n",
            "//hive.gladstone.internal/Huang-Lab/kzalocus/bumex_snSeq/06_E3Ki3614/outs/raw_gene_bc_matrices/mm10-1.2.0_premrna//barcodes.tsv\n",
            "C:/Users/dennis.tabuena/Dropbox (Gladstone)/0_Projects/_ReAnalyze_Zalocusky_2021/snBMX/06_E3Ki3614/barcodes.tsv\n",
            "C:/Users/dennis.tabuena/Dropbox (Gladstone)/0_Projects/_ReAnalyze_Zalocusky_2021/snBMX/06_E3Ki3614/\n",
            "//hive.gladstone.internal/Huang-Lab/kzalocus/bumex_snSeq/06_E3Ki3614/outs/raw_gene_bc_matrices/mm10-1.2.0_premrna//genes.tsv\n",
            "C:/Users/dennis.tabuena/Dropbox (Gladstone)/0_Projects/_ReAnalyze_Zalocusky_2021/snBMX/06_E3Ki3614/genes.tsv\n",
            "C:/Users/dennis.tabuena/Dropbox (Gladstone)/0_Projects/_ReAnalyze_Zalocusky_2021/snBMX/06_E3Ki3614/\n",
            "//hive.gladstone.internal/Huang-Lab/kzalocus/bumex_snSeq/06_E3Ki3614/outs/raw_gene_bc_matrices/mm10-1.2.0_premrna//matrix.mtx\n",
            "C:/Users/dennis.tabuena/Dropbox (Gladstone)/0_Projects/_ReAnalyze_Zalocusky_2021/snBMX/06_E3Ki3614/matrix.mtx\n",
            "C:/Users/dennis.tabuena/Dropbox (Gladstone)/0_Projects/_ReAnalyze_Zalocusky_2021/snBMX/07_E4Ki2737/\n",
            "//hive.gladstone.internal/Huang-Lab/kzalocus/bumex_snSeq/07_E4Ki2737/outs/raw_gene_bc_matrices/mm10-1.2.0_premrna//barcodes.tsv\n",
            "C:/Users/dennis.tabuena/Dropbox (Gladstone)/0_Projects/_ReAnalyze_Zalocusky_2021/snBMX/07_E4Ki2737/barcodes.tsv\n",
            "C:/Users/dennis.tabuena/Dropbox (Gladstone)/0_Projects/_ReAnalyze_Zalocusky_2021/snBMX/07_E4Ki2737/\n",
            "//hive.gladstone.internal/Huang-Lab/kzalocus/bumex_snSeq/07_E4Ki2737/outs/raw_gene_bc_matrices/mm10-1.2.0_premrna//genes.tsv\n",
            "C:/Users/dennis.tabuena/Dropbox (Gladstone)/0_Projects/_ReAnalyze_Zalocusky_2021/snBMX/07_E4Ki2737/genes.tsv\n",
            "C:/Users/dennis.tabuena/Dropbox (Gladstone)/0_Projects/_ReAnalyze_Zalocusky_2021/snBMX/07_E4Ki2737/\n",
            "//hive.gladstone.internal/Huang-Lab/kzalocus/bumex_snSeq/07_E4Ki2737/outs/raw_gene_bc_matrices/mm10-1.2.0_premrna//matrix.mtx\n",
            "C:/Users/dennis.tabuena/Dropbox (Gladstone)/0_Projects/_ReAnalyze_Zalocusky_2021/snBMX/07_E4Ki2737/matrix.mtx\n",
            "C:/Users/dennis.tabuena/Dropbox (Gladstone)/0_Projects/_ReAnalyze_Zalocusky_2021/snBMX/08_E4Ki2738/\n",
            "//hive.gladstone.internal/Huang-Lab/kzalocus/bumex_snSeq/08_E4Ki2738/outs/raw_gene_bc_matrices/mm10-1.2.0_premrna//barcodes.tsv\n",
            "C:/Users/dennis.tabuena/Dropbox (Gladstone)/0_Projects/_ReAnalyze_Zalocusky_2021/snBMX/08_E4Ki2738/barcodes.tsv\n",
            "C:/Users/dennis.tabuena/Dropbox (Gladstone)/0_Projects/_ReAnalyze_Zalocusky_2021/snBMX/08_E4Ki2738/\n",
            "//hive.gladstone.internal/Huang-Lab/kzalocus/bumex_snSeq/08_E4Ki2738/outs/raw_gene_bc_matrices/mm10-1.2.0_premrna//genes.tsv\n",
            "C:/Users/dennis.tabuena/Dropbox (Gladstone)/0_Projects/_ReAnalyze_Zalocusky_2021/snBMX/08_E4Ki2738/genes.tsv\n",
            "C:/Users/dennis.tabuena/Dropbox (Gladstone)/0_Projects/_ReAnalyze_Zalocusky_2021/snBMX/08_E4Ki2738/\n",
            "//hive.gladstone.internal/Huang-Lab/kzalocus/bumex_snSeq/08_E4Ki2738/outs/raw_gene_bc_matrices/mm10-1.2.0_premrna//matrix.mtx\n",
            "C:/Users/dennis.tabuena/Dropbox (Gladstone)/0_Projects/_ReAnalyze_Zalocusky_2021/snBMX/08_E4Ki2738/matrix.mtx\n",
            "C:/Users/dennis.tabuena/Dropbox (Gladstone)/0_Projects/_ReAnalyze_Zalocusky_2021/snBMX/09_E4Ki2739/\n",
            "//hive.gladstone.internal/Huang-Lab/kzalocus/bumex_snSeq/09_E4Ki2739/outs/raw_gene_bc_matrices/mm10-1.2.0_premrna//barcodes.tsv\n",
            "C:/Users/dennis.tabuena/Dropbox (Gladstone)/0_Projects/_ReAnalyze_Zalocusky_2021/snBMX/09_E4Ki2739/barcodes.tsv\n",
            "C:/Users/dennis.tabuena/Dropbox (Gladstone)/0_Projects/_ReAnalyze_Zalocusky_2021/snBMX/09_E4Ki2739/\n",
            "//hive.gladstone.internal/Huang-Lab/kzalocus/bumex_snSeq/09_E4Ki2739/outs/raw_gene_bc_matrices/mm10-1.2.0_premrna//genes.tsv\n",
            "C:/Users/dennis.tabuena/Dropbox (Gladstone)/0_Projects/_ReAnalyze_Zalocusky_2021/snBMX/09_E4Ki2739/genes.tsv\n",
            "C:/Users/dennis.tabuena/Dropbox (Gladstone)/0_Projects/_ReAnalyze_Zalocusky_2021/snBMX/09_E4Ki2739/\n",
            "//hive.gladstone.internal/Huang-Lab/kzalocus/bumex_snSeq/09_E4Ki2739/outs/raw_gene_bc_matrices/mm10-1.2.0_premrna//matrix.mtx\n",
            "C:/Users/dennis.tabuena/Dropbox (Gladstone)/0_Projects/_ReAnalyze_Zalocusky_2021/snBMX/09_E4Ki2739/matrix.mtx\n",
            "C:/Users/dennis.tabuena/Dropbox (Gladstone)/0_Projects/_ReAnalyze_Zalocusky_2021/snBMX/10_E4Ki2710/\n",
            "//hive.gladstone.internal/Huang-Lab/kzalocus/bumex_snSeq/10_E4Ki2710/outs/raw_gene_bc_matrices/mm10-1.2.0_premrna//barcodes.tsv\n",
            "C:/Users/dennis.tabuena/Dropbox (Gladstone)/0_Projects/_ReAnalyze_Zalocusky_2021/snBMX/10_E4Ki2710/barcodes.tsv\n",
            "C:/Users/dennis.tabuena/Dropbox (Gladstone)/0_Projects/_ReAnalyze_Zalocusky_2021/snBMX/10_E4Ki2710/\n",
            "//hive.gladstone.internal/Huang-Lab/kzalocus/bumex_snSeq/10_E4Ki2710/outs/raw_gene_bc_matrices/mm10-1.2.0_premrna//genes.tsv\n",
            "C:/Users/dennis.tabuena/Dropbox (Gladstone)/0_Projects/_ReAnalyze_Zalocusky_2021/snBMX/10_E4Ki2710/genes.tsv\n",
            "C:/Users/dennis.tabuena/Dropbox (Gladstone)/0_Projects/_ReAnalyze_Zalocusky_2021/snBMX/10_E4Ki2710/\n",
            "//hive.gladstone.internal/Huang-Lab/kzalocus/bumex_snSeq/10_E4Ki2710/outs/raw_gene_bc_matrices/mm10-1.2.0_premrna//matrix.mtx\n",
            "C:/Users/dennis.tabuena/Dropbox (Gladstone)/0_Projects/_ReAnalyze_Zalocusky_2021/snBMX/10_E4Ki2710/matrix.mtx\n",
            "C:/Users/dennis.tabuena/Dropbox (Gladstone)/0_Projects/_ReAnalyze_Zalocusky_2021/snBMX/11_E4Ki2711/\n",
            "//hive.gladstone.internal/Huang-Lab/kzalocus/bumex_snSeq/11_E4Ki2711/outs/raw_gene_bc_matrices/mm10-1.2.0_premrna//barcodes.tsv\n",
            "C:/Users/dennis.tabuena/Dropbox (Gladstone)/0_Projects/_ReAnalyze_Zalocusky_2021/snBMX/11_E4Ki2711/barcodes.tsv\n",
            "C:/Users/dennis.tabuena/Dropbox (Gladstone)/0_Projects/_ReAnalyze_Zalocusky_2021/snBMX/11_E4Ki2711/\n",
            "//hive.gladstone.internal/Huang-Lab/kzalocus/bumex_snSeq/11_E4Ki2711/outs/raw_gene_bc_matrices/mm10-1.2.0_premrna//genes.tsv\n",
            "C:/Users/dennis.tabuena/Dropbox (Gladstone)/0_Projects/_ReAnalyze_Zalocusky_2021/snBMX/11_E4Ki2711/genes.tsv\n",
            "C:/Users/dennis.tabuena/Dropbox (Gladstone)/0_Projects/_ReAnalyze_Zalocusky_2021/snBMX/11_E4Ki2711/\n",
            "//hive.gladstone.internal/Huang-Lab/kzalocus/bumex_snSeq/11_E4Ki2711/outs/raw_gene_bc_matrices/mm10-1.2.0_premrna//matrix.mtx\n",
            "C:/Users/dennis.tabuena/Dropbox (Gladstone)/0_Projects/_ReAnalyze_Zalocusky_2021/snBMX/11_E4Ki2711/matrix.mtx\n",
            "C:/Users/dennis.tabuena/Dropbox (Gladstone)/0_Projects/_ReAnalyze_Zalocusky_2021/snBMX/12_E4Ki2712/\n",
            "//hive.gladstone.internal/Huang-Lab/kzalocus/bumex_snSeq/12_E4Ki2712/outs/raw_gene_bc_matrices/mm10-1.2.0_premrna//barcodes.tsv\n",
            "C:/Users/dennis.tabuena/Dropbox (Gladstone)/0_Projects/_ReAnalyze_Zalocusky_2021/snBMX/12_E4Ki2712/barcodes.tsv\n",
            "C:/Users/dennis.tabuena/Dropbox (Gladstone)/0_Projects/_ReAnalyze_Zalocusky_2021/snBMX/12_E4Ki2712/\n",
            "//hive.gladstone.internal/Huang-Lab/kzalocus/bumex_snSeq/12_E4Ki2712/outs/raw_gene_bc_matrices/mm10-1.2.0_premrna//genes.tsv\n",
            "C:/Users/dennis.tabuena/Dropbox (Gladstone)/0_Projects/_ReAnalyze_Zalocusky_2021/snBMX/12_E4Ki2712/genes.tsv\n",
            "C:/Users/dennis.tabuena/Dropbox (Gladstone)/0_Projects/_ReAnalyze_Zalocusky_2021/snBMX/12_E4Ki2712/\n",
            "//hive.gladstone.internal/Huang-Lab/kzalocus/bumex_snSeq/12_E4Ki2712/outs/raw_gene_bc_matrices/mm10-1.2.0_premrna//matrix.mtx\n",
            "C:/Users/dennis.tabuena/Dropbox (Gladstone)/0_Projects/_ReAnalyze_Zalocusky_2021/snBMX/12_E4Ki2712/matrix.mtx\n"
          ]
        }
      ]
    },
    {
      "cell_type": "code",
      "source": [],
      "metadata": {
        "id": "swTIKJFWoRMQ"
      },
      "execution_count": null,
      "outputs": []
    },
    {
      "cell_type": "code",
      "source": [
        "source = 'C:/Users/dennis.tabuena/Dropbox (Gladstone)/0_Projects/_ReAnalyze_Zalocusky_2021/snBMX/'\n",
        "folder_list = [f.path for f in os.scandir(source) if f.is_dir() and '_' in f.name]\n",
        "adata_dict = {}\n",
        "for f in tqdm(folder_list):\n",
        "    a = sc.read_10x_mtx(path)\n",
        "    sample_ID = f.split('/')[-1]\n",
        "    adata_dict[sample_ID]=a\n",
        "    a=[]\n",
        "adata = ad.concat(adata_dict,axis = 0,label=\"sample\",index_unique=\"_\")\n",
        "display(adata)"
      ],
      "metadata": {
        "colab": {
          "base_uri": "https://localhost:8080/",
          "height": 69
        },
        "id": "LVR2Vjis0NDE",
        "outputId": "2cdc1d27-c2a7-44e4-cc11-cca237b666f2"
      },
      "execution_count": 126,
      "outputs": [
        {
          "output_type": "stream",
          "name": "stderr",
          "text": [
            "100%|██████████████████████████████████████████████████████████████████████████████████| 12/12 [01:20<00:00,  6.68s/it]\n"
          ]
        },
        {
          "output_type": "display_data",
          "data": {
            "text/plain": [
              "AnnData object with n_obs × n_vars = 8847360 × 27998\n",
              "    obs: 'sample'"
            ]
          },
          "metadata": {}
        }
      ]
    },
    {
      "cell_type": "code",
      "source": [
        "def pull_gene_annots(csv_loc='./mmusculus_coding_noncoding.csv',\n",
        "                     my_git='https://raw.githubusercontent.com/dtabuena/Resources/main/Genetics/mmusculus_coding_noncoding.csv',\n",
        "                     biomart_name='mmusculus',\n",
        "                     biomart_keys=[\"ensembl_gene_id\", \"chromosome_name\",\"transcript_biotype\",\"external_gene_name\",\"peptide\"]):\n",
        "\n",
        "\n",
        "    if os.path.exists('./mmusculus_coding_noncoding.csv'):\n",
        "        print( 'Use local copy of musmus')\n",
        "        annot_dd = pd.read_csv('./mmusculus_coding_noncoding.csv').set_index(\"external_gene_name\")\n",
        "    else:\n",
        "        try:\n",
        "            print( 'attempting to pull mus mus from git...')\n",
        "            musmus_link = 'https://raw.githubusercontent.com/dtabuena/Resources/main/Genetics/mmusculus_coding_noncoding.csv'\n",
        "            filename = './mmusculus_coding_noncoding.csv'\n",
        "            urllib.request.urlretrieve(musmus_link, filename)\n",
        "            annot_dd = pd.read_csv('./mmusculus_coding_noncoding.csv').set_index(\"external_gene_name\")\n",
        "        except:\n",
        "            print('attempting to pull mus mus from biomart...')\n",
        "            annot = sc.queries.biomart_annotations(\"mmusculus\",[\"ensembl_gene_id\", \"chromosome_name\",\"transcript_biotype\",\"external_gene_name\"],).set_index('ensembl_gene_id')\n",
        "            uniq_inds = list(set(list(annot.index)))\n",
        "            for r in tqdm(uniq_inds):\n",
        "                match_bool = annot.index.str.contains(r)\n",
        "                if np.sum(match_bool)>1:\n",
        "                    new_val ='__'.join(list(annot.loc[r,'transcript_biotype']))\n",
        "                    annot.at[r,'transcript_biotype']=new_val\n",
        "            annot['is_coding']= annot.transcript_biotype.str.contains('coding')\n",
        "            annot_dd = annot.drop_duplicates().set_index(\"external_gene_name\")\n",
        "            annot_dd.to_csv('./mmusculus_coding_noncoding.csv')\n",
        "\n",
        "    coding_list = annot_dd.index[ annot_dd['is_coding'] ].to_list()\n",
        "    return coding_list, annot_dd\n",
        "\n",
        "\n",
        "\n",
        "\n",
        "def preprocess_andata10x(adata_og,pct_mito=0.25,min_genes=500,max_genes=2400,min_counts=500,max_counts=4500):\n",
        "\n",
        "    print('pulling gene annotations...')\n",
        "    coding_list, _ = pull_gene_annots()\n",
        "    adata_og.var['mt'] = adata_og.var_names.str.startswith('mt-')\n",
        "    adata_og.var['coding'] = [gene in coding_list for gene in adata_og.var_names]\n",
        "    sc.pp.calculate_qc_metrics(adata_og, qc_vars=['mt'], percent_top=None, log1p=False, inplace=True)\n",
        "\n",
        "    adata_QC = adata_og.copy()\n",
        "\n",
        "    print('Filtering...')\n",
        "    adata_QC = adata_QC[adata_QC.obs.pct_counts_mt < pct_mito, :]\n",
        "    print(str(np.sum(adata_og.obs.pct_counts_mt <pct_mito)) + f' cells with >{pct_mito}% removed')\n",
        "    adata_QC = adata_QC[:, adata_QC.var.coding]\n",
        "    print(str(np.sum(np.logical_not(adata_og.var.coding))) + ' non coding genes removed')\n",
        "    sc.pp.filter_cells(adata_QC, min_genes=min_genes)\n",
        "    sc.pp.filter_cells(adata_QC, max_genes=max_genes)\n",
        "    sc.pp.filter_cells(adata_QC, min_counts=min_counts)\n",
        "    sc.pp.filter_cells(adata_QC, max_counts=max_counts)\n",
        "    fig,ax=plt.subplots(1,figsize=(1.5,1.5))\n",
        "    sc.pl.scatter(adata_QC, x='total_counts', y='n_genes_by_counts',ax=ax)\n",
        "\n",
        "    return adata_QC,adata_og\n",
        "\n",
        "adata_QC = preprocess_andata10x(adata)[0]"
      ],
      "metadata": {
        "colab": {
          "base_uri": "https://localhost:8080/"
        },
        "id": "GQ-FbjOC1BuC",
        "outputId": "4abafb74-f8b6-4ebd-bd7f-179e0d36920a"
      },
      "execution_count": null,
      "outputs": [
        {
          "output_type": "stream",
          "name": "stdout",
          "text": [
            "pulling gene annotations...\n",
            "attempting to pull mus mus from git...\n",
            "attempting to pull mus mus from biomart...\n"
          ]
        }
      ]
    }
  ]
}